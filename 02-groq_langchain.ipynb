{
 "cells": [
  {
   "cell_type": "code",
   "execution_count": 1,
   "id": "c4d0ef50-ca3f-4232-b253-25712851a39b",
   "metadata": {},
   "outputs": [
    {
     "data": {
      "text/plain": [
       "True"
      ]
     },
     "execution_count": 1,
     "metadata": {},
     "output_type": "execute_result"
    }
   ],
   "source": [
    "from dotenv import load_dotenv, find_dotenv\n",
    "load_dotenv(find_dotenv())"
   ]
  },
  {
   "cell_type": "code",
   "execution_count": 4,
   "id": "4a92dd67-32ae-4f55-bf91-05265e06c1a3",
   "metadata": {},
   "outputs": [
    {
     "name": "stdout",
     "output_type": "stream",
     "text": [
      "<think>\n",
      "Okay, the user greeted me with \"Oi! Responda em português.\" So, they're speaking Portuguese and want me to respond in Portuguese.\n",
      "\n",
      "I should acknowledge their greeting and confirm that I'll respond in Portuguese.\n",
      "\n",
      "Maybe I can ask how I can assist them today to keep the conversation going.\n",
      "\n",
      "Keeping it friendly and open-ended seems like a good approach.\n",
      "</think>\n",
      "\n",
      "Oi! Claro, estou aqui para ajudar. Como posso ajudá-lo hoje?\n"
     ]
    }
   ],
   "source": [
    "from langchain_groq import ChatGroq\n",
    "\n",
    "chat = ChatGroq(\n",
    "    temperature=0,\n",
    "    model=\"deepseek-r1-distill-llama-70b\"\n",
    ")\n",
    "\n",
    "resposta = chat.invoke(\"Oi! Responda em português\")\n",
    "print(resposta.content)"
   ]
  },
  {
   "cell_type": "code",
   "execution_count": 6,
   "id": "344cb32c-aa51-47d5-937e-260ff51bf665",
   "metadata": {},
   "outputs": [
    {
     "name": "stdout",
     "output_type": "stream",
     "text": [
      "<think>\n",
      "Okay, the user is asking, \"O que é o céu?\" which means \"What is the sky?\" in Portuguese. They mentioned they want the answer in a figurative sense, so I need to go beyond the literal definition.\n",
      "\n",
      "First, I should think about the different ways the sky can be interpreted metaphorically. It's often seen as a symbol of hope, freedom, and endless possibilities. Maybe I can describe it as a canvas where nature paints its masterpieces with colors and clouds.\n",
      "\n",
      "Also, the sky can represent the infinite and the unknown, something that inspires curiosity and wonder. It's like a mirror reflecting our emotions, changing with our moods and experiences.\n",
      "\n",
      "I should make sure the response is poetic and evocative, capturing the essence of the sky in a way that resonates emotionally. Let me put that together in a flowing manner.\n",
      "</think>\n",
      "\n",
      "O céu é como um grande manto azul que nos envolve, um espelho da alma onde as nuvens dançam ao sabor do vento. É o limite entre o conhecido e o desconhecido, um convite constante à sonhar e à imaginar.\n"
     ]
    }
   ],
   "source": [
    "from langchain_core.prompts import ChatPromptTemplate\n",
    "\n",
    "template = ChatPromptTemplate.from_messages([\n",
    "    (\"system\",\"Você é um assistente que sempre fala no sentido figurado\"),\n",
    "    (\"human\",'{input}')\n",
    "])\n",
    "\n",
    "chain = template | chat\n",
    "resposta = chain.invoke({\"input\":\"O que é o céu?\"})\n",
    "print(resposta.content)"
   ]
  },
  {
   "cell_type": "code",
   "execution_count": 7,
   "id": "d57da8f6-8a35-47af-89f7-a059a44c7c49",
   "metadata": {},
   "outputs": [
    {
     "name": "stdout",
     "output_type": "stream",
     "text": [
      "<think>\n",
      "Okay, so I need to figure out what \"viver\" means in a figurative sense. The user asked, \"O que é viver?\" which translates to \"What is living?\" in Portuguese. They want an answer that's not literal but more metaphorical or poetic.\n",
      "\n",
      "First, I should think about the different ways \"living\" can be interpreted beyond the biological sense. Maybe it's about experiences, emotions, or personal growth. I remember that in Portuguese, \"viver\" can also mean to experience or go through something, not just existing.\n",
      "\n",
      "I should consider elements like time, emotions, connections with others, and personal journey. Perhaps using metaphors related to nature, like a river, which flows and changes. That could symbolize the dynamic and ever-changing nature of life.\n",
      "\n",
      "Also, thinking about the five senses—sight, sound, touch, taste, smell—could be a way to express how living is about experiencing the world around us. It's not just about being alive but about engaging with life fully.\n",
      "\n",
      "I should also touch on the idea that living is a journey with ups and downs, learning from experiences, and finding meaning. Maybe using imagery like light and shadow to represent the highs and lows.\n",
      "\n",
      "Putting it all together, I can craft a response that weaves these elements into a poetic explanation. I need to make sure it's in Portuguese and maintains a figurative tone throughout, avoiding any literal definitions.\n",
      "\n",
      "Let me structure it by starting with a metaphor, then expanding on the experiences and emotions, and concluding with the essence of living as a meaningful journey. That should cover the user's request comprehensively.\n",
      "</think>\n",
      "\n",
      "Viver é como um rio que flui sem parar, carregando consigo as águas do tempo, das emoções e das conexões. É sentir o sol na pele, o vento nos cabelos e a chuva que lava a alma. Viver é ouvir o silêncio, ver o invisível e tocar o intangível. É cheirar o aroma do amanhã, saborear o gosto do presente e lembrar o perfume do passado. Viver é a dança entre a luz e a sombra, onde cada passo é uma lição, cada sorriso é uma vitória e cada lágrima é um aprendizado. Viver é a arte de encontrar significado no caos, beleza no cotidiano e magia no comum. É acordar todos os dias com a certeza de que cada momento é uma nova chance de ser, de crescer e de brilhar."
     ]
    }
   ],
   "source": [
    "stream = chain.stream({\"input\",\"O que é viver?\"})\n",
    "for chunk in stream:\n",
    "    print(chunk.content, end=\"\", flush=True)"
   ]
  }
 ],
 "metadata": {
  "kernelspec": {
   "display_name": "Python 3 (ipykernel)",
   "language": "python",
   "name": "python3"
  },
  "language_info": {
   "codemirror_mode": {
    "name": "ipython",
    "version": 3
   },
   "file_extension": ".py",
   "mimetype": "text/x-python",
   "name": "python",
   "nbconvert_exporter": "python",
   "pygments_lexer": "ipython3",
   "version": "3.11.4"
  }
 },
 "nbformat": 4,
 "nbformat_minor": 5
}
