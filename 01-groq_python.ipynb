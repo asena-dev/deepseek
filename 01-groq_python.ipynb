{
 "cells": [
  {
   "cell_type": "code",
   "execution_count": 2,
   "id": "e002215e-64ff-4bf1-b5de-13a0aa6227b8",
   "metadata": {},
   "outputs": [
    {
     "data": {
      "text/plain": [
       "True"
      ]
     },
     "execution_count": 2,
     "metadata": {},
     "output_type": "execute_result"
    }
   ],
   "source": [
    "from dotenv import load_dotenv, find_dotenv\n",
    "load_dotenv(find_dotenv())"
   ]
  },
  {
   "cell_type": "code",
   "execution_count": 3,
   "id": "c767782b-d829-49e7-b786-0f7a7cab5254",
   "metadata": {},
   "outputs": [],
   "source": [
    "from groq import Groq\n",
    "client = Groq()"
   ]
  },
  {
   "cell_type": "code",
   "execution_count": 9,
   "id": "fa7ec168-467a-47fd-8798-c19edb5a3b1e",
   "metadata": {},
   "outputs": [],
   "source": [
    "mensagens = [{\n",
    "    \"role\":\"user\",\n",
    "    \"content\":\"Explique a diferença entre llm e langchain. Responda em portugues\"\n",
    "}]\n",
    "\n",
    "response = client.chat.completions.create(\n",
    "    messages=mensagens,\n",
    "    model=\"deepseek-r1-distill-llama-70b\"\n",
    ")"
   ]
  },
  {
   "cell_type": "code",
   "execution_count": 11,
   "id": "07f94d2a-7109-4dc6-b8f9-629ab46efe5a",
   "metadata": {},
   "outputs": [
    {
     "name": "stdout",
     "output_type": "stream",
     "text": [
      "<think>\n",
      "Ok, vou tentar entender a diferença entre LLM e LangChain. Primeiro, ouvi falar que LLM significa Large Language Model. Acho que isso se refere a um tipo de inteligência artificial treinada para entender e gerar texto humano, como o GPT-3 ou o BERT. Eles são usados para tarefas de processamento de linguagem natural, como tradução ou resumo de textos.\n",
      "\n",
      "Já LangChain, parece ser algo relacionado a cadeias de linguagem. Talvez seja uma ferramenta ou framework que permite combinar diferentes modelos de linguagem para criar fluxos de trabalho mais complexos. Ou seja, em vez de usar um único modelo, você pode integrar vários modelos e fontes de dados para resolver problemas mais complicados.\n",
      "\n",
      "Então, a diferença principal seria que LLM é o próprio modelo de IA, enquanto LangChain é uma maneira de usar e integrar vários desses modelos juntos. Assim, LangChain ajuda a criar aplicações mais robustas e personalizadas, aproveitando as capacidades de diferentes LLMs.\n",
      "\n",
      "Preciso confirmar se estou entendendo isso corretamente. Talvez LangChain permita que você use um modelo para analisar dados, outro para gerar respostas e outro para filtrar ou refinar essas respostas. Isso tornaria as aplicações mais flexíveis e potentes.\n",
      "\n",
      "Vou verificar se há mais detalhes sobre LangChain. Parece que ela também pode ajudar na gestão de contextos e no encadeamento de tarefas, tornando o processamento de linguagem mais eficiente e escalável.\n",
      "\n",
      "Portanto, em resumo, LLM é o modelo de linguagem em si, enquanto LangChain é uma abordagem ou ferramenta para combinar e aplicar esses modelos de forma mais eficaz.\n",
      "</think>\n",
      "\n",
      "**LLM (Large Language Model):**\n",
      "- São modelos de inteligência artificial treinados para entender e gerar texto humano.\n",
      "- Exemplos incluem GPT-3 e BERT.\n",
      "- Utilizados para tarefas como tradução, resumo de textos e resposta a perguntas.\n",
      "- Funcionam como um único modelo para processar e gerar texto.\n",
      "\n",
      "**LangChain:**\n",
      "- É uma ferramenta ou framework que permite combinar diferentes modelos de linguagem.\n",
      "- Facilita a criação de fluxos de trabalho complexos integrando vários LLMs e fontes de dados.\n",
      "- Permite personalização e combinação de modelos para resolver problemas mais complicados.\n",
      "- Ajuda na gestão de contextos e encadeamento de tarefas, tornando o processamento de linguagem mais eficiente e escalável.\n",
      "\n",
      "**Resumo:**\n",
      "- LLM é o modelo de linguagem propriamente dito.\n",
      "- LangChain é uma abordagem para integrar e aplicar esses modelos de forma mais eficaz, permitindo aplicações mais robustas e personalizadas.\n"
     ]
    }
   ],
   "source": [
    "print(response.choices[0].message.content)"
   ]
  },
  {
   "cell_type": "code",
   "execution_count": 12,
   "id": "4115037b-223a-477f-91ee-b995412c313e",
   "metadata": {},
   "outputs": [
    {
     "name": "stdout",
     "output_type": "stream",
     "text": [
      "<think>\n",
      "Okay, so I'm trying to understand the difference between LLM and LangChain. I've heard both terms being thrown around a lot in the AI space, but I'm not entirely sure what each one refers to. Let me break this down.\n",
      "\n",
      "First, I know that LLM stands for Large Language Model. I've heard of models like GPT-3, GPT-4, and others. These are AI systems trained on vast amounts of text data to generate human-like text. They can answer questions, write essays, translate languages, and more. So, an LLM is the actual model that processes and generates text based on the input it receives.\n",
      "\n",
      "Now, LangChain. I'm less familiar with this term. From what I've gathered, it's a framework or a tool that allows users to build applications using LLMs. So, it's not an LLM itself but something that works with LLMs. Maybe it provides a way to structure the input and output for the model, making it easier to integrate into various applications.\n",
      "\n",
      "Wait, but how exactly does LangChain differ from just using an LLM? I think it's about how you interact with the model. LangChain might offer features like memory management, so the model can remember past interactions, which is useful for conversational applications. It might also handle the formatting of prompts and responses, making it easier to get the desired output from the LLM.\n",
      "\n",
      "Let me think of an example. If I'm using an LLM directly, I might send a prompt and get a response, but each interaction is isolated. With LangChain, I could have a conversation where each message builds on the previous one, allowing for more coherent and contextual interactions. That makes sense for applications like chatbots or interactive stories.\n",
      "\n",
      "Also, LangChain probably provides tools for more complex tasks, like chaining multiple models or integrating with other data sources. This could enable more sophisticated workflows where the LLM is just one part of a larger system. For instance, a system that uses an LLM to generate text, then another model to evaluate it, all within the LangChain framework.\n",
      "\n",
      "So, in summary, LLM is the AI model that does the heavy lifting of understanding and generating text, while LangChain is a framework that helps in building applications with LLMs, adding features like memory, better prompt management, and integration capabilities. They work together but serve different purposes in the overall AI application stack.\n",
      "\n",
      "I should check if there's anything else that differentiates them. Maybe LangChain supports multiple LLMs, allowing developers to switch between different models without changing much code. That would add flexibility. Also, LangChain might have built-in support for different input and output formats, making it easier to connect with other systems or user interfaces.\n",
      "\n",
      "Another thought: LangChain might abstract away some of the complexities of interacting with LLMs, providing a more user-friendly API. So, instead of dealing with raw model inputs and outputs, developers can use higher-level functions provided by LangChain to build their applications more efficiently.\n",
      "\n",
      "I think I have a reasonable understanding now. LLM is the core AI model, while LangChain is the framework that enhances and simplifies using that model in real-world applications. They are complementary technologies, each serving distinct roles in the AI ecosystem.\n",
      "</think>\n",
      "\n",
      "**Resposta:**\n",
      "\n",
      "LLM (Large Language Model) e LangChain são tecnologias complementares no ecossistema de IA, cada uma desempenhando um papel distinto:\n",
      "\n",
      "1. **LLM (Large Language Model):**\n",
      "   - **Definição:** Trata-se de um modelo de inteligência artificial treinado em grandes conjuntos de dados textuais para entender e gerar texto similar ao humano. Exemplos incluem GPT-3 e GPT-4.\n",
      "   - **Função:** O LLM processa a entrada e gera respostas, podendo realizar tarefas como responder perguntas, traduzir idiomas e redigir textos.\n",
      "\n",
      "2. **LangChain:**\n",
      "   - **Definição:** É um framework que facilita o desenvolvimento de aplicações utilizando LLMs. Não é um modelo de linguagem, mas uma ferramenta para interagir e aprimorar o uso de LLMs.\n",
      "   - **Recursos:** Oferece gerenciamento de memória para interações contextuais, formatação de prompts e respostas, integração com múltiplos modelos e fontes de dados, e suporte a vários formatos de entrada e saída.\n",
      "   - **Flexibilidade:** Permite que desenvolvedores mudem entre diferentes LLMs com poucas alterações no código e fornece uma API de alto nível para simplificar o desenvolvimento.\n",
      "\n",
      "**Conclusão:** Enquanto o LLM é o modelo de IA que executa o processamento de linguagem, o LangChain é o framework que otimiza e simplifica a integração desse modelo em aplicações reais, adicionando funcionalidades e flexibilidade. Juntos, eles permitem a criação de sistemas mais complexos e interativos.None"
     ]
    }
   ],
   "source": [
    "mensagens = [{\n",
    "    \"role\":\"user\",\n",
    "    \"content\":\"Explique a diferença entre llm e langchain. Responda em portugues\"\n",
    "}]\n",
    "\n",
    "stream = client.chat.completions.create(\n",
    "    messages=mensagens,\n",
    "    model=\"deepseek-r1-distill-llama-70b\",\n",
    "    stream=True\n",
    ")\n",
    "for chunk in stream:\n",
    "    print(chunk.choices[0].delta.content, end=\"\", flush=True)"
   ]
  }
 ],
 "metadata": {
  "kernelspec": {
   "display_name": "Python 3 (ipykernel)",
   "language": "python",
   "name": "python3"
  },
  "language_info": {
   "codemirror_mode": {
    "name": "ipython",
    "version": 3
   },
   "file_extension": ".py",
   "mimetype": "text/x-python",
   "name": "python",
   "nbconvert_exporter": "python",
   "pygments_lexer": "ipython3",
   "version": "3.11.4"
  }
 },
 "nbformat": 4,
 "nbformat_minor": 5
}
